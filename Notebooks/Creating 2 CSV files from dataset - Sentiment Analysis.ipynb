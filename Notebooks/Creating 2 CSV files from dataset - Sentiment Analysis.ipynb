{
 "cells": [
  {
   "cell_type": "markdown",
   "id": "17aa1681-74b5-4c38-8ef3-f7bbea1c41a9",
   "metadata": {},
   "source": [
    "# Sentiment / Customer Intention Analysis"
   ]
  },
  {
   "cell_type": "markdown",
   "id": "5ccbfcd7-43ab-46cb-abec-8285d861342d",
   "metadata": {},
   "source": [
    "As I already have 4 other CSV files from my previous EDA notebooks, including Conversation, Coversation_Information, Customer and Fan Page, now I will generate 2 more CSV files: Intention and Entities from the Conversation filtered with only Customer as Sender."
   ]
  },
  {
   "cell_type": "markdown",
   "id": "d1501471-c78e-4a5b-839b-7da0a46cdf8a",
   "metadata": {},
   "source": [
    "## 1/ Import libraries"
   ]
  },
  {
   "cell_type": "code",
   "execution_count": 1,
   "id": "a0aacc59-f000-41aa-9cc0-0ab6813563a1",
   "metadata": {},
   "outputs": [],
   "source": [
    "import pandas as pd\n",
    "import numpy as np\n",
    "import csv"
   ]
  },
  {
   "cell_type": "code",
   "execution_count": 88,
   "id": "63870a66-5d13-4468-9271-e450a1cba46a",
   "metadata": {},
   "outputs": [],
   "source": [
    "import requests\n",
    "import json"
   ]
  },
  {
   "cell_type": "code",
   "execution_count": 2,
   "id": "a8905dcd-604a-4c4d-8023-d81b93938bdd",
   "metadata": {},
   "outputs": [],
   "source": [
    "from tqdm import tqdm"
   ]
  },
  {
   "cell_type": "markdown",
   "id": "8b8eeef7-16f7-408b-b58e-71cf45708973",
   "metadata": {},
   "source": [
    "## 2/ Load CSV file of Customer Filtered Conversation"
   ]
  },
  {
   "cell_type": "code",
   "execution_count": 3,
   "id": "bea8a7d2-b584-4034-8a45-d988b61c1ad4",
   "metadata": {},
   "outputs": [],
   "source": [
    "df_customer_filtered_Conversation = pd.read_csv(\"C:\\Programming\\CustomerIntention\\src\\data\\customer_filtered_Conversation.csv\", encoding = 'utf-8') "
   ]
  },
  {
   "cell_type": "markdown",
   "id": "a3b50d68-623f-46c9-8808-b47c35d5e854",
   "metadata": {},
   "source": [
    "##  3/ Prepare to insert all rows from Conversation to CSV files"
   ]
  },
  {
   "cell_type": "code",
   "execution_count": 4,
   "id": "873f89fd-5d93-4b06-9cae-fab023189ad6",
   "metadata": {},
   "outputs": [],
   "source": [
    "object_length = df_customer_filtered_Conversation.shape[0]\n",
    "object_ids = df_customer_filtered_Conversation['Message_ID'].values[:object_length] \n",
    "object_messages = df_customer_filtered_Conversation['Message'].values[:object_length] "
   ]
  },
  {
   "cell_type": "markdown",
   "id": "8acea402-e554-43d1-87d9-8828247150df",
   "metadata": {},
   "source": [
    "## 4/ Create 7 new lists for the new 2 CSV files: Conversation Intention & Entities"
   ]
  },
  {
   "cell_type": "markdown",
   "id": "d0c1ca62-a42c-4522-a808-0473f59a030a",
   "metadata": {},
   "source": [
    "The 6 new lists contain Entity, Entity Score, Entity Word, Conversation ID, Intention Label, Intention Score of the Customer Intention table"
   ]
  },
  {
   "cell_type": "code",
   "execution_count": 5,
   "id": "ad4c3f06-05ee-4c46-bd8a-21be7bfd4a4b",
   "metadata": {},
   "outputs": [],
   "source": [
    "conversation_intention_conversation_id = []\n",
    "conversation_intention_label = []\n",
    "conversation_intention_score = []\n",
    "\n",
    "conversation_entities_conversation_id = []\n",
    "conversation_entity = []\n",
    "conversation_entity_score = []\n",
    "conversation_entity_word = []"
   ]
  },
  {
   "cell_type": "markdown",
   "id": "383e26d6-5440-452c-b26d-28e24046928f",
   "metadata": {},
   "source": [
    "## 5/ Generate 500 responses per batch from API"
   ]
  },
  {
   "cell_type": "code",
   "execution_count": null,
   "id": "32482f63-6f66-45fc-b5df-924e7f66335a",
   "metadata": {},
   "outputs": [],
   "source": [
    "import requests\n",
    "import json\n",
    "\n",
    "url = 'http://nni.cot.ai:19721/query'\n",
    "\n",
    "my_object = []\n",
    "for i, (id, m) in tqdm(enumerate(zip(object_ids, object_messages)), total = len(object_ids)): \n",
    "    temp = {\n",
    "        \"reference_id\": int(id),\n",
    "        \"text\": m\n",
    "    }\n",
    "    my_object.append(temp)\n",
    "    if (i+1) % 500 == 0 or i == len(object_ids) - 1: # 2 cases: divisible (to get batches of 500 rows) or last iteration (the last batch with less than 500 rows)\n",
    "        response = requests.post(url, json = my_object)\n",
    "        my_object = []        \n",
    "        for item in response.json(): # loop through each result in the my_object batch of 1000 rows\n",
    "            #print(item)\n",
    "\n",
    "            # Intention\n",
    "            conversation_intention_conversation_id.append(item['reference_id'])\n",
    "            # Append the reference_id of the chat line, the customer's most possible intention (intent), the customer's intention highest score\n",
    "            conversation_intention_label.append(item['intent'][0]['label'])\n",
    "            conversation_intention_score.append(item['intent'][0]['score'])     \n",
    "\n",
    "            # Entities\n",
    "            for ent in item['entities']: # An empty entity will be ignored and moved on\n",
    "                conversation_entities_conversation_id.append(item['reference_id'])\n",
    "                conversation_entity.append(ent['entity']) # get all entities so they wiil have duplicate ref_id. That's why they must have Conversation Entities IDs\n",
    "                conversation_entity_score.append(ent['score']) \n",
    "                conversation_entity_word.append(ent['word'])"
   ]
  },
  {
   "cell_type": "markdown",
   "id": "4bda4770-2497-495b-a968-1b3e1f2f5a58",
   "metadata": {},
   "source": [
    "## 6/ Plug all 7 lists into the Conversation Intention & Entities's data frames"
   ]
  },
  {
   "cell_type": "code",
   "execution_count": null,
   "id": "efe028d5-4754-4ded-b14f-8dd92ac030fa",
   "metadata": {},
   "outputs": [],
   "source": [
    "df_Conversation_Entities = pd.DataFrame(np.column_stack([conversation_intention_conversation_id, conversation_entity, conversation_entity_score, conversation_entity_word]), \n",
    "                               columns=['Conversation_ID', 'Conversation_Entity', 'Conversation_Entity_Score', 'Conversation_Entity_Word'])\n",
    "#df_Conversation_Entities.head()"
   ]
  },
  {
   "cell_type": "code",
   "execution_count": null,
   "id": "43c8a853-b220-4c6e-b08a-ca45517d1a1d",
   "metadata": {},
   "outputs": [],
   "source": [
    "df_Conversation_Intention = pd.DataFrame(np.column_stack([conversation_intention_conversation_id, conversation_intention_label, conversation_intention_score]), \n",
    "                               columns=['Conversation_ID', 'Intention_Label', 'Intention_Score'])\n",
    "#df_Conversation_Intention.head()"
   ]
  },
  {
   "cell_type": "markdown",
   "id": "e786f442-a1c0-4f0a-b544-196f2fa4a7c0",
   "metadata": {},
   "source": [
    "## 7/ Save the Conversation Intention & Entities for Visualization in Tableau"
   ]
  },
  {
   "cell_type": "code",
   "execution_count": null,
   "id": "ff3f8b1d-ec62-426d-8a9d-afaa5c52e243",
   "metadata": {},
   "outputs": [],
   "source": [
    "df_Conversation_Intention.to_csv('C:\\Programming\\CustomerIntention\\src\\data\\Conversation_Intention.csv', encoding='utf-8')"
   ]
  },
  {
   "cell_type": "code",
   "execution_count": null,
   "id": "cd40a72d-fd81-48dd-b909-f798faf370ff",
   "metadata": {},
   "outputs": [],
   "source": [
    "df_Conversation_Entities.to_csv('C:\\Programming\\CustomerIntention\\src\\data\\Conversation_Entities.csv', encoding='utf-8')"
   ]
  },
  {
   "cell_type": "code",
   "execution_count": null,
   "id": "5635a5d9-1dfe-4df3-8c93-0ee1f1f1a246",
   "metadata": {},
   "outputs": [],
   "source": []
  }
 ],
 "metadata": {
  "kernelspec": {
   "display_name": "venv",
   "language": "python",
   "name": "venv"
  },
  "language_info": {
   "codemirror_mode": {
    "name": "ipython",
    "version": 3
   },
   "file_extension": ".py",
   "mimetype": "text/x-python",
   "name": "python",
   "nbconvert_exporter": "python",
   "pygments_lexer": "ipython3",
   "version": "3.9.7"
  }
 },
 "nbformat": 4,
 "nbformat_minor": 5
}
