{
  "nbformat": 4,
  "nbformat_minor": 0,
  "metadata": {
    "colab": {
      "name": "Sentiment Analytics - Fixing the data frames of Intention, Entities.ipynb",
      "provenance": [],
      "collapsed_sections": [],
      "toc_visible": true
    },
    "kernelspec": {
      "name": "python3",
      "display_name": "Python 3"
    },
    "language_info": {
      "name": "python"
    }
  },
  "cells": [
    {
      "cell_type": "markdown",
      "metadata": {
        "id": "pxivLrc73pNr"
      },
      "source": [
        "# Overview\n",
        "\n",
        "I have made a mistake earlier from the EDA notebook and Create 2 CSV files notebook of choosing the Message_ID instead of Conversation_ID from the df_Conversation for the 3 data frames: df_customer_filtered_Conversation, df_Intention, df_Entities.\n",
        "\n",
        "So, now I will add that Conversation_ID to these 3 data frames and save them into CSV files."
      ]
    },
    {
      "cell_type": "markdown",
      "metadata": {
        "id": "dJtdrpKc3imD"
      },
      "source": [
        "## Import libraries"
      ]
    },
    {
      "cell_type": "code",
      "metadata": {
        "id": "L5LrdAG6bPqR"
      },
      "source": [
        "import itertools\n",
        "import os\n",
        "\n",
        "import matplotlib.pyplot as plt\n",
        "import numpy as np\n",
        "import pandas as pd\n",
        "import seaborn as sns\n",
        "from collections import Counter"
      ],
      "execution_count": null,
      "outputs": []
    },
    {
      "cell_type": "markdown",
      "metadata": {
        "id": "gtMK4Tbz3l2b"
      },
      "source": [
        "## Load data"
      ]
    },
    {
      "cell_type": "code",
      "metadata": {
        "colab": {
          "base_uri": "https://localhost:8080/"
        },
        "id": "mt1aEF3_bUgU",
        "outputId": "3663cc62-8bbb-4b69-ebc1-b65ea45bb288"
      },
      "source": [
        "from google.colab import drive\n",
        "drive.mount('/content/drive')"
      ],
      "execution_count": null,
      "outputs": [
        {
          "output_type": "stream",
          "name": "stdout",
          "text": [
            "Drive already mounted at /content/drive; to attempt to forcibly remount, call drive.mount(\"/content/drive\", force_remount=True).\n"
          ]
        }
      ]
    },
    {
      "cell_type": "code",
      "metadata": {
        "id": "b62IY8SdbVyn"
      },
      "source": [
        "df_Intention = pd.read_csv('/content/drive/My Drive/Colab Notebooks/CoTAI/Data Science Internship CoTAI 2021/SQL Alchemy/Conversation_Intention.csv')"
      ],
      "execution_count": null,
      "outputs": []
    },
    {
      "cell_type": "code",
      "metadata": {
        "id": "5K-URSp94-5B"
      },
      "source": [
        "df_Intention.tail(20)"
      ],
      "execution_count": null,
      "outputs": []
    },
    {
      "cell_type": "code",
      "metadata": {
        "id": "rUCY9S7OX9cM"
      },
      "source": [
        "df_Intention.rename(columns={'Conversation_ID': 'Message_ID'}, inplace=True)"
      ],
      "execution_count": null,
      "outputs": []
    },
    {
      "cell_type": "code",
      "metadata": {
        "id": "6sLYWbaa5AXG"
      },
      "source": [
        "df_Intention.tail(20)"
      ],
      "execution_count": null,
      "outputs": []
    },
    {
      "cell_type": "code",
      "metadata": {
        "id": "E9c3sEUzv5Pc"
      },
      "source": [
        "df_Entities = pd.read_csv('/content/drive/My Drive/Colab Notebooks/CoTAI/Data Science Internship CoTAI 2021/SQL Alchemy/Conversation_Entities.csv')"
      ],
      "execution_count": null,
      "outputs": []
    },
    {
      "cell_type": "code",
      "metadata": {
        "id": "GMCwi3Zb5BxS"
      },
      "source": [
        "df_Entities.tail(20)"
      ],
      "execution_count": null,
      "outputs": []
    },
    {
      "cell_type": "code",
      "metadata": {
        "id": "3-rIH8FeX-Y8"
      },
      "source": [
        "df_Entities.rename(columns={'Conversation_ID': 'Message_ID'}, inplace=True)"
      ],
      "execution_count": null,
      "outputs": []
    },
    {
      "cell_type": "code",
      "metadata": {
        "id": "4CKruaxf5C-l"
      },
      "source": [
        "df_Entities.tail(20)"
      ],
      "execution_count": null,
      "outputs": []
    },
    {
      "cell_type": "code",
      "metadata": {
        "id": "1JkdPoaqerli"
      },
      "source": [
        "df_customer_filtered_Conversation = pd.read_csv('/content/drive/My Drive/Colab Notebooks/CoTAI/Data Science Internship CoTAI 2021/SQL Alchemy/customer_filtered_Conversation.csv')"
      ],
      "execution_count": null,
      "outputs": []
    },
    {
      "cell_type": "code",
      "metadata": {
        "id": "PZNW20uR5EYf"
      },
      "source": [
        "df_customer_filtered_Conversation.tail(20)"
      ],
      "execution_count": null,
      "outputs": []
    },
    {
      "cell_type": "code",
      "metadata": {
        "id": "bLdLgMV85GKv"
      },
      "source": [
        "temp_df = df_customer_filtered_Conversation[[\"Conversation_ID\"]]"
      ],
      "execution_count": null,
      "outputs": []
    },
    {
      "cell_type": "code",
      "metadata": {
        "id": "2PQjiPYr5Gkg"
      },
      "source": [
        "temp_df.head(10)"
      ],
      "execution_count": null,
      "outputs": []
    },
    {
      "cell_type": "code",
      "metadata": {
        "id": "OVGAW_FoYsAL"
      },
      "source": [
        "df_Intention = pd.concat([df_Intention, temp_df], axis=1)"
      ],
      "execution_count": null,
      "outputs": []
    },
    {
      "cell_type": "markdown",
      "metadata": {
        "id": "DI05cFaU4KqS"
      },
      "source": [
        "## Check the results \n",
        "\n",
        "This step is to compare the head and tail of these 3 data frames to make sure the Message_ID align with the Conversation_ID."
      ]
    },
    {
      "cell_type": "code",
      "metadata": {
        "id": "nXnZJ7_m5IfF"
      },
      "source": [
        "df_Intention.head(20)"
      ],
      "execution_count": null,
      "outputs": []
    },
    {
      "cell_type": "code",
      "metadata": {
        "id": "MwCQTf0k5JnK"
      },
      "source": [
        "df_Intention.tail(20)"
      ],
      "execution_count": null,
      "outputs": []
    },
    {
      "cell_type": "code",
      "metadata": {
        "id": "rrel7cPdV8gt"
      },
      "source": [
        "df_Entities = pd.concat([df_Entities, temp_df], axis=1)"
      ],
      "execution_count": null,
      "outputs": []
    },
    {
      "cell_type": "code",
      "metadata": {
        "id": "vnGSURlg5LNm"
      },
      "source": [
        "df_Entities.head(20)"
      ],
      "execution_count": null,
      "outputs": []
    },
    {
      "cell_type": "markdown",
      "metadata": {
        "id": "GN0TXsIK4aUQ"
      },
      "source": [
        "## Save the 2 data frames\n",
        "\n",
        "Now I will save them to Conversation_Intention.csv and Conversation_Entities.csv for further visualization on Tableau."
      ]
    },
    {
      "cell_type": "code",
      "metadata": {
        "id": "Ces8MPQPXx0v"
      },
      "source": [
        "df_Intention.to_csv('/content/drive/My Drive/Colab Notebooks/CoTAI/Data Science Internship CoTAI 2021/SQL Alchemy/Conversation_Intention.csv', encoding='utf-8')"
      ],
      "execution_count": null,
      "outputs": []
    },
    {
      "cell_type": "code",
      "metadata": {
        "id": "cDMeCvM3Zmi4"
      },
      "source": [
        "df_Entities.to_csv('/content/drive/My Drive/Colab Notebooks/CoTAI/Data Science Internship CoTAI 2021/SQL Alchemy/Conversation_Entities.csv', encoding='utf-8')"
      ],
      "execution_count": null,
      "outputs": []
    }
  ]
}