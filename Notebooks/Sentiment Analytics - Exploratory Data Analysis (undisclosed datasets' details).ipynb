{
  "nbformat": 4,
  "nbformat_minor": 0,
  "metadata": {
    "colab": {
      "name": "Copy of Sentiment Analytics - Exploratory Data Analysis.ipynb",
      "provenance": [],
      "collapsed_sections": [],
      "toc_visible": true
    },
    "kernelspec": {
      "name": "python3",
      "display_name": "Python 3"
    },
    "language_info": {
      "name": "python"
    },
    "accelerator": "GPU"
  },
  "cells": [
    {
      "cell_type": "markdown",
      "metadata": {
        "id": "mZ-Te0UlxJSs"
      },
      "source": [
        "# Sentiment Analytics - Exploratory Data Analysis"
      ]
    },
    {
      "cell_type": "markdown",
      "metadata": {
        "id": "aRTwZBDAd3Gh"
      },
      "source": [
        "# 1/ Import Libraries"
      ]
    },
    {
      "cell_type": "code",
      "metadata": {
        "id": "MnttJoubdyED"
      },
      "source": [
        "import itertools\n",
        "import os\n",
        "\n",
        "import matplotlib.pyplot as plt\n",
        "import numpy as np\n",
        "import pandas as pd\n",
        "import seaborn as sns\n",
        "from collections import Counter"
      ],
      "execution_count": null,
      "outputs": []
    },
    {
      "cell_type": "markdown",
      "metadata": {
        "id": "XlGqqJnQjo2_"
      },
      "source": [
        "# 2/ Load Data"
      ]
    },
    {
      "cell_type": "code",
      "metadata": {
        "colab": {
          "base_uri": "https://localhost:8080/"
        },
        "id": "tvrh-zA2joVp",
        "outputId": "804eb348-1f26-4187-e4e2-87f777d3aa32"
      },
      "source": [
        "from google.colab import drive\n",
        "drive.mount('/content/drive')"
      ],
      "execution_count": null,
      "outputs": [
        {
          "output_type": "stream",
          "name": "stdout",
          "text": [
            "Drive already mounted at /content/drive; to attempt to forcibly remount, call drive.mount(\"/content/drive\", force_remount=True).\n"
          ]
        }
      ]
    },
    {
      "cell_type": "markdown",
      "metadata": {
        "id": "NRVXQQlaLY7D"
      },
      "source": [
        "# 3/ Get the Data"
      ]
    },
    {
      "cell_type": "code",
      "metadata": {
        "id": "F7O89ACpm64Q"
      },
      "source": [
        "df_sales_main = pd.read_csv('/content/drive/My Drive/Colab Notebooks/CoTAI/Data Science Internship CoTAI 2021/Sales Analysis/all_clean_data.csv')"
      ],
      "execution_count": null,
      "outputs": []
    },
    {
      "cell_type": "code",
      "metadata": {
        "id": "VTIImfTtJCiG"
      },
      "source": [
        "df_sales_main.head()"
      ],
      "execution_count": null,
      "outputs": []
    },
    {
      "cell_type": "code",
      "metadata": {
        "colab": {
          "base_uri": "https://localhost:8080/"
        },
        "id": "u_u13QBgNuWz",
        "outputId": "35c9a3a6-0ec2-4592-da8c-c867ff12edc2"
      },
      "source": [
        "df_sales_main.shape[0]"
      ],
      "execution_count": null,
      "outputs": [
        {
          "output_type": "execute_result",
          "data": {
            "text/plain": [
              "314543"
            ]
          },
          "metadata": {},
          "execution_count": 5
        }
      ]
    },
    {
      "cell_type": "markdown",
      "metadata": {
        "id": "Z_hNFGbhnKOg"
      },
      "source": [
        "Set the first column as the Index and print out the table again"
      ]
    },
    {
      "cell_type": "markdown",
      "metadata": {
        "id": "crQ6cB_bntor"
      },
      "source": [
        "Add the name 'ID' for the Index column"
      ]
    },
    {
      "cell_type": "code",
      "metadata": {
        "colab": {
          "base_uri": "https://localhost:8080/",
          "height": 35
        },
        "id": "F7gPouRfnqAu",
        "outputId": "f63c418c-92b6-45a6-9e9b-59403d6f3883"
      },
      "source": [
        "df_sales_main.index.name = 'ID'\n",
        "df_sales_main.index.name"
      ],
      "execution_count": null,
      "outputs": [
        {
          "output_type": "execute_result",
          "data": {
            "application/vnd.google.colaboratory.intrinsic+json": {
              "type": "string"
            },
            "text/plain": [
              "'ID'"
            ]
          },
          "metadata": {},
          "execution_count": 6
        }
      ]
    },
    {
      "cell_type": "code",
      "metadata": {
        "id": "E2BKqPc1JFDg"
      },
      "source": [
        "df_sales_main.head()"
      ],
      "execution_count": null,
      "outputs": []
    },
    {
      "cell_type": "markdown",
      "metadata": {
        "id": "dbnTIdbKC0ng"
      },
      "source": [
        "From this stage, I will split the tasks into 2 steps: Conversation & Conversation_Information."
      ]
    },
    {
      "cell_type": "markdown",
      "metadata": {
        "id": "-PBTocBpMc_7"
      },
      "source": [
        "# 4/ Check duplicates\n",
        "\n",
        "Reference:\n",
        "\n",
        "https://pandas.pydata.org/docs/reference/api/pandas.DataFrame.duplicated.html\n",
        "\n",
        "https://pandas.pydata.org/docs/reference/api/pandas.DataFrame.drop_duplicates.html\n",
        "\n",
        "https://datatofish.com/count-duplicates-pandas/"
      ]
    },
    {
      "cell_type": "markdown",
      "metadata": {
        "id": "Dg_Vlj7LOUIG"
      },
      "source": [
        "Now I will create pivot tables based on the order of Fanpage, PSID, Message (this order can be changed at will). For this step, I will then check and drop duplicates in any."
      ]
    },
    {
      "cell_type": "markdown",
      "metadata": {
        "id": "gycSBAaFQmmB"
      },
      "source": [
        "If printing dups, it will shows internal conversations between the Customers and Sales team. So I will print only one first message without any sensitive data or information in it."
      ]
    },
    {
      "cell_type": "code",
      "metadata": {
        "id": "hXBpAS7rJH2o"
      },
      "source": [
        "dups = df_sales_main.pivot_table(columns=['Fanpage', 'PSID', 'Message'], aggfunc='size')\n",
        "print(dups)"
      ],
      "execution_count": null,
      "outputs": []
    },
    {
      "cell_type": "code",
      "metadata": {
        "colab": {
          "base_uri": "https://localhost:8080/"
        },
        "id": "3SMZZke9N8VS",
        "outputId": "95adbae2-f44b-4ff1-83a3-60ee5299bb93"
      },
      "source": [
        "df_sales_main.duplicated(subset=['Fanpage', 'PSID', 'Message'])"
      ],
      "execution_count": null,
      "outputs": [
        {
          "output_type": "execute_result",
          "data": {
            "text/plain": [
              "ID\n",
              "0         False\n",
              "1         False\n",
              "2         False\n",
              "3         False\n",
              "4         False\n",
              "          ...  \n",
              "314538    False\n",
              "314539    False\n",
              "314540    False\n",
              "314541    False\n",
              "314542    False\n",
              "Length: 314543, dtype: bool"
            ]
          },
          "metadata": {},
          "execution_count": 10
        }
      ]
    },
    {
      "cell_type": "code",
      "metadata": {
        "colab": {
          "base_uri": "https://localhost:8080/"
        },
        "id": "38FLkkxcMfXm",
        "outputId": "7e3a7a89-14c1-423f-9250-d8a2477bf9a1"
      },
      "source": [
        "df_sales_main.duplicated(subset=['Fanpage', 'PSID', 'Message'], keep='last')"
      ],
      "execution_count": null,
      "outputs": [
        {
          "output_type": "execute_result",
          "data": {
            "text/plain": [
              "ID\n",
              "0         False\n",
              "1         False\n",
              "2         False\n",
              "3         False\n",
              "4         False\n",
              "          ...  \n",
              "314538    False\n",
              "314539    False\n",
              "314540    False\n",
              "314541    False\n",
              "314542    False\n",
              "Length: 314543, dtype: bool"
            ]
          },
          "metadata": {},
          "execution_count": 11
        }
      ]
    },
    {
      "cell_type": "code",
      "metadata": {
        "id": "C4xE9fniJMPi"
      },
      "source": [
        "df_sales_main.drop_duplicates(subset=['Fanpage', 'PSID', 'Message'], keep='last')"
      ],
      "execution_count": null,
      "outputs": []
    },
    {
      "cell_type": "markdown",
      "metadata": {
        "id": "aqjqFONnIdYh"
      },
      "source": [
        "Currently, there are no duplicates in those two data frames. Therefore, dropping duplicates is unnecessary. I just want to show you a way to drop them."
      ]
    },
    {
      "cell_type": "markdown",
      "metadata": {
        "id": "46ZrsHE6kvzI"
      },
      "source": [
        "# 5/ Work with Conversation Data Frame\n",
        "\n",
        "This data frame will contain only some variables as followings."
      ]
    },
    {
      "cell_type": "markdown",
      "metadata": {
        "id": "gz27tYPCoHvF"
      },
      "source": [
        "## 5.1/ Create a new table"
      ]
    },
    {
      "cell_type": "code",
      "metadata": {
        "colab": {
          "base_uri": "https://localhost:8080/"
        },
        "id": "nTHSxENEkbTm",
        "outputId": "a0b33a4a-4118-4828-f989-b5eb4e4bd29f"
      },
      "source": [
        "# Create headers list\n",
        "headers_Conversation = ['ID', 'Unnamed: 0', 'Fanpage', 'PSID', 'FanpageName', 'CusName', 'Message']\n",
        "print(\"Headers of the Data Frame 'Conversation' \\n\", headers_Conversation)"
      ],
      "execution_count": null,
      "outputs": [
        {
          "output_type": "stream",
          "name": "stdout",
          "text": [
            "Headers of the Data Frame 'Conversation' \n",
            " ['ID', 'Unnamed: 0', 'Fanpage', 'PSID', 'FanpageName', 'CusName', 'Message']\n"
          ]
        }
      ]
    },
    {
      "cell_type": "code",
      "metadata": {
        "id": "gOXKr3gmJQC1"
      },
      "source": [
        "df_Conversation = df_sales_main.filter(headers_Conversation, axis=1)\n",
        "df_Conversation.head(10)"
      ],
      "execution_count": null,
      "outputs": []
    },
    {
      "cell_type": "code",
      "metadata": {
        "id": "m7TpoRHSJRmS"
      },
      "source": [
        "df_Conversation = df_Conversation.rename(columns={\"Unnamed: 0\": \"Conversation_ID\"})\n",
        "df_Conversation.head()"
      ],
      "execution_count": null,
      "outputs": []
    },
    {
      "cell_type": "markdown",
      "metadata": {
        "id": "jUMU_Ss7o6ik"
      },
      "source": [
        "We need to create 2 new columns for the df_Conversation, named 'Sender' and 'Order' to set Sender 0 as 'Customer', Sender 1 as 'Sales'. The Column 'Order' would be for the order index of each chat line within a conversation."
      ]
    },
    {
      "cell_type": "markdown",
      "metadata": {
        "id": "5RkIM4HwMVXz"
      },
      "source": [
        "## 5.3 Split the message of each conversation into multiples rows."
      ]
    },
    {
      "cell_type": "code",
      "metadata": {
        "colab": {
          "base_uri": "https://localhost:8080/"
        },
        "id": "1ZsT9_FpHHIc",
        "outputId": "721ac44a-6638-4068-96a6-096bc03d9897"
      },
      "source": [
        "%%time\n",
        "temp_Conversation = df_Conversation['Message'].str.split('\\n').apply(pd.Series, 1).stack()"
      ],
      "execution_count": null,
      "outputs": [
        {
          "output_type": "stream",
          "name": "stdout",
          "text": [
            "CPU times: user 3min 13s, sys: 20.5 s, total: 3min 34s\n",
            "Wall time: 3min 33s\n"
          ]
        }
      ]
    },
    {
      "cell_type": "code",
      "metadata": {
        "id": "lF91jHTaJVGM"
      },
      "source": [
        "temp_Conversation.head()"
      ],
      "execution_count": null,
      "outputs": []
    },
    {
      "cell_type": "code",
      "metadata": {
        "id": "Izvei19dJXw4"
      },
      "source": [
        "temp_Conversation.tail()"
      ],
      "execution_count": null,
      "outputs": []
    },
    {
      "cell_type": "code",
      "metadata": {
        "id": "R4mYGG4LJZ-g"
      },
      "source": [
        "temp_Conversation.value_counts()"
      ],
      "execution_count": null,
      "outputs": []
    },
    {
      "cell_type": "markdown",
      "metadata": {
        "id": "IffCzNXzMdEl"
      },
      "source": [
        "## 5.4 Create a list of indices based on different conversations"
      ]
    },
    {
      "cell_type": "code",
      "metadata": {
        "colab": {
          "base_uri": "https://localhost:8080/"
        },
        "id": "_ScAqugtHK75",
        "outputId": "39ca8698-f0d4-4c28-e669-c61b3674dab6"
      },
      "source": [
        "order_ids = temp_Conversation.index.droplevel(0)\n",
        "order_ids"
      ],
      "execution_count": null,
      "outputs": [
        {
          "output_type": "execute_result",
          "data": {
            "text/plain": [
              "Int64Index([ 0,  1,  2,  3,  4,  5,  6,  7,  8,  9,\n",
              "            ...\n",
              "            16, 17, 18, 19,  0,  0,  1,  0,  0,  1],\n",
              "           dtype='int64', length=4024005)"
            ]
          },
          "metadata": {},
          "execution_count": 22
        }
      ]
    },
    {
      "cell_type": "code",
      "metadata": {
        "colab": {
          "base_uri": "https://localhost:8080/"
        },
        "id": "J89eD2fkGEC2",
        "outputId": "34cd53dc-ab6a-4f33-8f0d-020d41a68b4a"
      },
      "source": [
        "print(order_ids)"
      ],
      "execution_count": null,
      "outputs": [
        {
          "output_type": "stream",
          "name": "stdout",
          "text": [
            "Int64Index([ 0,  1,  2,  3,  4,  5,  6,  7,  8,  9,\n",
            "            ...\n",
            "            16, 17, 18, 19,  0,  0,  1,  0,  0,  1],\n",
            "           dtype='int64', length=4024005)\n"
          ]
        }
      ]
    },
    {
      "cell_type": "code",
      "metadata": {
        "colab": {
          "base_uri": "https://localhost:8080/"
        },
        "id": "AcweAxkINb1t",
        "outputId": "a427ffdd-914e-4612-8576-c8067d07cf0d"
      },
      "source": [
        "order_ids.value_counts()"
      ],
      "execution_count": null,
      "outputs": [
        {
          "output_type": "execute_result",
          "data": {
            "text/plain": [
              "0      314543\n",
              "1      270499\n",
              "2      243356\n",
              "3      215953\n",
              "4      192974\n",
              "        ...  \n",
              "610         1\n",
              "609         1\n",
              "608         1\n",
              "607         1\n",
              "658         1\n",
              "Length: 659, dtype: int64"
            ]
          },
          "metadata": {},
          "execution_count": 24
        }
      ]
    },
    {
      "cell_type": "markdown",
      "metadata": {
        "id": "tk6yAKhhMpu7"
      },
      "source": [
        "## 5.5 Assign those indices to corresponding chat lines"
      ]
    },
    {
      "cell_type": "code",
      "metadata": {
        "id": "C5L-5Zy_JcoJ"
      },
      "source": [
        "temp_Conversation.index = temp_Conversation.index.droplevel(-1)\n",
        "temp_Conversation.head()"
      ],
      "execution_count": null,
      "outputs": []
    },
    {
      "cell_type": "markdown",
      "metadata": {
        "id": "hXwKvf4HMxW7"
      },
      "source": [
        "## 5.6 Rename the temp_Conversation"
      ]
    },
    {
      "cell_type": "code",
      "metadata": {
        "id": "ThujfOR9Je2_"
      },
      "source": [
        "temp_Conversation.name = 'Message'\n",
        "temp_Conversation.head()"
      ],
      "execution_count": null,
      "outputs": []
    },
    {
      "cell_type": "markdown",
      "metadata": {
        "id": "OPdI4ZLgM5Fy"
      },
      "source": [
        "## 5.7 Count number of chat lines of each conversation"
      ]
    },
    {
      "cell_type": "code",
      "metadata": {
        "colab": {
          "base_uri": "https://localhost:8080/"
        },
        "id": "7qF6fk2EoMkb",
        "outputId": "64902079-a94e-4497-b785-5f5772a6be87"
      },
      "source": [
        "temp_Conversation.str.len()"
      ],
      "execution_count": null,
      "outputs": [
        {
          "output_type": "execute_result",
          "data": {
            "text/plain": [
              "ID\n",
              "0          8\n",
              "0         40\n",
              "0         23\n",
              "0          9\n",
              "0         43\n",
              "          ..\n",
              "314540    16\n",
              "314540    30\n",
              "314541     9\n",
              "314542    23\n",
              "314542     9\n",
              "Name: Message, Length: 4024005, dtype: int64"
            ]
          },
          "metadata": {},
          "execution_count": 27
        }
      ]
    },
    {
      "cell_type": "markdown",
      "metadata": {
        "id": "kGMH4iL-Ngn9"
      },
      "source": [
        "## 5.8/ Join the temp_Conversation with the Conversation data frame correspondingly"
      ]
    },
    {
      "cell_type": "code",
      "metadata": {
        "id": "ctYEX7tmJg8a"
      },
      "source": [
        "df_Conversation.drop(columns=['Message'], inplace=True)\n",
        "df_Conversation = df_Conversation.join(temp_Conversation)\n",
        "df_Conversation['Message_ID'] = order_ids\n",
        "df_Conversation.head()"
      ],
      "execution_count": null,
      "outputs": []
    },
    {
      "cell_type": "code",
      "metadata": {
        "id": "ynV8o64dJihN"
      },
      "source": [
        "df_Conversation.head(20)"
      ],
      "execution_count": null,
      "outputs": []
    },
    {
      "cell_type": "code",
      "metadata": {
        "id": "XEL4F3NkJlSt"
      },
      "source": [
        "df_Conversation.tail(20)"
      ],
      "execution_count": null,
      "outputs": []
    },
    {
      "cell_type": "code",
      "metadata": {
        "colab": {
          "base_uri": "https://localhost:8080/"
        },
        "id": "4kvHPMl6pjRK",
        "outputId": "5ceee1de-d955-40ec-f1ff-a6d199806aab"
      },
      "source": [
        "df_Conversation.shape[0]"
      ],
      "execution_count": null,
      "outputs": [
        {
          "output_type": "execute_result",
          "data": {
            "text/plain": [
              "4024005"
            ]
          },
          "metadata": {},
          "execution_count": 32
        }
      ]
    },
    {
      "cell_type": "markdown",
      "metadata": {
        "id": "J211ToLW3Hoj"
      },
      "source": [
        "## Remove the old Conversation_ID column"
      ]
    },
    {
      "cell_type": "code",
      "metadata": {
        "id": "3Si8EWsI1Exj"
      },
      "source": [
        "df_Conversation.drop(columns=['Conversation_ID'], inplace=True)"
      ],
      "execution_count": null,
      "outputs": []
    },
    {
      "cell_type": "code",
      "metadata": {
        "id": "pqhClOPsJpuM"
      },
      "source": [
        "df_Conversation.head()"
      ],
      "execution_count": null,
      "outputs": []
    },
    {
      "cell_type": "markdown",
      "metadata": {
        "id": "V5LkhrsJ7Gc0"
      },
      "source": [
        "## Copy the current ID to a new Conversation_ID column\n",
        "\n",
        "\n"
      ]
    },
    {
      "cell_type": "code",
      "metadata": {
        "id": "oW-QQ324JspW"
      },
      "source": [
        "df_Conversation['Conversation_ID'] = df_Conversation.index\n",
        "df_Conversation.head()"
      ],
      "execution_count": null,
      "outputs": []
    },
    {
      "cell_type": "markdown",
      "metadata": {
        "id": "Ewn_qxR7-V-h"
      },
      "source": [
        "## Set the Message_ID as the main ID column for df_Conversation"
      ]
    },
    {
      "cell_type": "code",
      "metadata": {
        "id": "B5nIuUVSJuEU"
      },
      "source": [
        "df_Conversation.set_index('Message_ID', inplace=True)\n",
        "df_Conversation.head()"
      ],
      "execution_count": null,
      "outputs": []
    },
    {
      "cell_type": "markdown",
      "metadata": {
        "id": "2P03cXjzL-pB"
      },
      "source": [
        "## 5.9/ Check null values"
      ]
    },
    {
      "cell_type": "code",
      "metadata": {
        "colab": {
          "base_uri": "https://localhost:8080/"
        },
        "id": "1dk50BM6L-Nr",
        "outputId": "30687c52-1b83-49ce-c605-dee8a1df6321"
      },
      "source": [
        "df_Conversation.isnull().values.any()"
      ],
      "execution_count": null,
      "outputs": [
        {
          "output_type": "execute_result",
          "data": {
            "text/plain": [
              "False"
            ]
          },
          "metadata": {},
          "execution_count": 43
        }
      ]
    },
    {
      "cell_type": "code",
      "metadata": {
        "colab": {
          "base_uri": "https://localhost:8080/"
        },
        "id": "3F8VMmVBMCn9",
        "outputId": "cf53270f-ba97-4a67-f5d6-3714447db17b"
      },
      "source": [
        "df_Conversation.isnull().sum()"
      ],
      "execution_count": null,
      "outputs": [
        {
          "output_type": "execute_result",
          "data": {
            "text/plain": [
              "Fanpage            0\n",
              "PSID               0\n",
              "FanpageName        0\n",
              "CusName            0\n",
              "Message            0\n",
              "Conversation_ID    0\n",
              "dtype: int64"
            ]
          },
          "metadata": {},
          "execution_count": 44
        }
      ]
    },
    {
      "cell_type": "code",
      "metadata": {
        "colab": {
          "base_uri": "https://localhost:8080/"
        },
        "id": "f_H65ApSMClw",
        "outputId": "e8732b63-2cac-4080-f197-75c1d11d478a"
      },
      "source": [
        "df_Conversation.shape[0]"
      ],
      "execution_count": null,
      "outputs": [
        {
          "output_type": "execute_result",
          "data": {
            "text/plain": [
              "4024005"
            ]
          },
          "metadata": {},
          "execution_count": 45
        }
      ]
    },
    {
      "cell_type": "markdown",
      "metadata": {
        "id": "RbVvkzhPN7Oh"
      },
      "source": [
        "There is no null values for the Conversation data frame so I can move on."
      ]
    },
    {
      "cell_type": "markdown",
      "metadata": {
        "id": "y_fxqPI3yi0H"
      },
      "source": [
        "## 5.10/ Delete [KH] & [SALES] from chat lines & Convert Sender categories into 0: Sales, 1: Customer"
      ]
    },
    {
      "cell_type": "markdown",
      "metadata": {
        "id": "p_zNTLBdAqQE"
      },
      "source": [
        "Our approach will be creating a list to contain all values of the column Message. Then I go through each value by for loop to find if each chat line contain [KH] or [SALES] by using conditions. If yes, I wil replace them by \"\". The reason for this is that going through each row of a certain column in a data frame takes much more time and memory space. List is much easier to use for this case."
      ]
    },
    {
      "cell_type": "code",
      "metadata": {
        "id": "7-i2UUD5oTFN"
      },
      "source": [
        "messages = df_Conversation['Message'].values\n",
        "temp_array = [0] * len(messages)\n",
        "for i in range(len(messages)):\n",
        "    if messages[i].startswith('[KH]'):\n",
        "        messages[i] = messages[i].replace('[KH]', \"\")\n",
        "        temp_array[i] = 1\n",
        "    elif messages[i].startswith('[SALES]'):\n",
        "        messages[i] = messages[i].replace('[SALES]', \"\")\n",
        "df_Conversation['Sender'] = temp_array \n",
        "df_Conversation['Message'] = messages"
      ],
      "execution_count": null,
      "outputs": []
    },
    {
      "cell_type": "code",
      "metadata": {
        "id": "i0JhpuYlJ1rc"
      },
      "source": [
        "df_Conversation.head(20)"
      ],
      "execution_count": null,
      "outputs": []
    },
    {
      "cell_type": "code",
      "metadata": {
        "id": "IH-z-KHDJ3tC"
      },
      "source": [
        "df_Conversation.tail(20)"
      ],
      "execution_count": null,
      "outputs": []
    },
    {
      "cell_type": "markdown",
      "metadata": {
        "id": "VKtPNbJmxX-c"
      },
      "source": [
        "## 5.11/ Filter the df_Conversation by Customer only (Sender = 1) and having only 3 columns: ID, Conversation_ID, Message, Sender = 1"
      ]
    },
    {
      "cell_type": "code",
      "metadata": {
        "id": "rG5D736SJ-lJ"
      },
      "source": [
        "selected_df_Conversation = df_Conversation[[\"Message\", \"Sender\"]]\n",
        "selected_df_Conversation.head(10)"
      ],
      "execution_count": null,
      "outputs": []
    },
    {
      "cell_type": "code",
      "metadata": {
        "id": "dNqV9pcnKIX-"
      },
      "source": [
        "selected_df_Conversation.tail(10)"
      ],
      "execution_count": null,
      "outputs": []
    },
    {
      "cell_type": "code",
      "metadata": {
        "colab": {
          "base_uri": "https://localhost:8080/"
        },
        "id": "TyMQMeNjxshL",
        "outputId": "794f2330-b5c1-4845-ecca-ef0a97709b51"
      },
      "source": [
        "customer_filtered_df_Conversation = selected_df_Conversation[selected_df_Conversation['Sender'] == 1]\n",
        "customer_filtered_df_Conversation.shape"
      ],
      "execution_count": null,
      "outputs": [
        {
          "output_type": "execute_result",
          "data": {
            "text/plain": [
              "(1643453, 2)"
            ]
          },
          "metadata": {},
          "execution_count": 51
        }
      ]
    },
    {
      "cell_type": "code",
      "metadata": {
        "id": "uwqLbugSKKU1"
      },
      "source": [
        "customer_filtered_df_Conversation.head(50)"
      ],
      "execution_count": null,
      "outputs": []
    },
    {
      "cell_type": "code",
      "metadata": {
        "id": "pTLeUquQKM7r"
      },
      "source": [
        "customer_filtered_df_Conversation.tail(50)"
      ],
      "execution_count": null,
      "outputs": []
    },
    {
      "cell_type": "markdown",
      "metadata": {
        "id": "1g_jTCCLKOnS"
      },
      "source": [
        "At this stage, I have to check manually the top 50 rows and the last 50 rows of this new dataframe and compare them with rows from the original dataframe of Converastion to make sure Conversation IDs are correct for each chat."
      ]
    },
    {
      "cell_type": "markdown",
      "metadata": {
        "id": "SGpfZ5LSnr3C"
      },
      "source": [
        "# 6/ Work with Conversation Information data frame\n",
        "\n",
        "This other new data frame will contain the variables as below."
      ]
    },
    {
      "cell_type": "markdown",
      "metadata": {
        "id": "Ul8zZnMWDDiO"
      },
      "source": [
        "## 6.1/ Create a new table"
      ]
    },
    {
      "cell_type": "code",
      "metadata": {
        "colab": {
          "base_uri": "https://localhost:8080/"
        },
        "id": "WN0DyKO1nvCX",
        "outputId": "3a189e14-2563-48e5-bb6c-6c10e6fd35b4"
      },
      "source": [
        "headers_Conversation_Information = ['ID', 'Unnamed: 0', 'CustomerCount', 'SalesCount', 'StartTime', 'EndTime']\n",
        "print(\"Headers of the Data Frame 'Conversation_Information' \\n\", headers_Conversation_Information)"
      ],
      "execution_count": null,
      "outputs": [
        {
          "output_type": "stream",
          "name": "stdout",
          "text": [
            "Headers of the Data Frame 'Conversation_Information' \n",
            " ['ID', 'Unnamed: 0', 'CustomerCount', 'SalesCount', 'StartTime', 'EndTime']\n"
          ]
        }
      ]
    },
    {
      "cell_type": "code",
      "metadata": {
        "id": "px7JeEIOKgrL"
      },
      "source": [
        "df_Conversation_Information = df_sales_main.filter(headers_Conversation_Information, axis=1)\n",
        "df_Conversation_Information.head(5)"
      ],
      "execution_count": null,
      "outputs": []
    },
    {
      "cell_type": "code",
      "metadata": {
        "id": "OjQKu-hAKh97"
      },
      "source": [
        "df_Conversation_Information = df_Conversation_Information.rename(columns={\"Unnamed: 0\": \"Conversation_ID\"})\n",
        "df_Conversation_Information.head()"
      ],
      "execution_count": null,
      "outputs": []
    },
    {
      "cell_type": "code",
      "metadata": {
        "id": "Kvq63FGgTjvd",
        "colab": {
          "base_uri": "https://localhost:8080/"
        },
        "outputId": "440782d0-2814-487a-8073-207cc494e8dd"
      },
      "source": [
        "df_Conversation_Information.shape[0]"
      ],
      "execution_count": null,
      "outputs": [
        {
          "output_type": "execute_result",
          "data": {
            "text/plain": [
              "314543"
            ]
          },
          "metadata": {},
          "execution_count": 57
        }
      ]
    },
    {
      "cell_type": "code",
      "metadata": {
        "colab": {
          "base_uri": "https://localhost:8080/"
        },
        "id": "t1VLPzV87tAj",
        "outputId": "0aef8a9d-b126-4159-ff45-ba532710857f"
      },
      "source": [
        "boolean = df_Conversation_Information['Conversation_ID'].duplicated().any() \n",
        "boolean"
      ],
      "execution_count": null,
      "outputs": [
        {
          "output_type": "execute_result",
          "data": {
            "text/plain": [
              "True"
            ]
          },
          "metadata": {},
          "execution_count": 58
        }
      ]
    },
    {
      "cell_type": "code",
      "metadata": {
        "id": "6r0vzdi6Kj0E"
      },
      "source": [
        "df_Conversation_Information.drop_duplicates(subset=['Conversation_ID'])"
      ],
      "execution_count": null,
      "outputs": []
    },
    {
      "cell_type": "code",
      "metadata": {
        "colab": {
          "base_uri": "https://localhost:8080/"
        },
        "id": "-sK4y1TD8GFi",
        "outputId": "226fa23a-c9d0-4345-9496-8633d0cf0521"
      },
      "source": [
        "boolean = df_Conversation_Information['Conversation_ID'].duplicated().any() \n",
        "boolean"
      ],
      "execution_count": null,
      "outputs": [
        {
          "output_type": "execute_result",
          "data": {
            "text/plain": [
              "True"
            ]
          },
          "metadata": {},
          "execution_count": 60
        }
      ]
    },
    {
      "cell_type": "code",
      "metadata": {
        "colab": {
          "base_uri": "https://localhost:8080/"
        },
        "id": "aQMSVAY5Lzjv",
        "outputId": "41d2ad00-e5a7-4a77-c655-50f8ab324487"
      },
      "source": [
        "duplicate = df_Conversation_Information[df_Conversation_Information.duplicated()]\n",
        "print(duplicate)"
      ],
      "execution_count": null,
      "outputs": [
        {
          "output_type": "stream",
          "name": "stdout",
          "text": [
            "Empty DataFrame\n",
            "Columns: [Conversation_ID, CustomerCount, SalesCount, StartTime, EndTime]\n",
            "Index: []\n"
          ]
        }
      ]
    },
    {
      "cell_type": "markdown",
      "metadata": {
        "id": "FfnED6fBpkXD"
      },
      "source": [
        "Customer Count seems to be longer as they talked more to ask questions for their requirements. "
      ]
    },
    {
      "cell_type": "markdown",
      "metadata": {
        "id": "OhDX5BBsOBXT"
      },
      "source": [
        "## 6.2/ Check null values"
      ]
    },
    {
      "cell_type": "code",
      "metadata": {
        "colab": {
          "base_uri": "https://localhost:8080/"
        },
        "id": "8PoFpoSQOEI2",
        "outputId": "97b11c1d-07c3-44e2-b271-07aa7ab87dcb"
      },
      "source": [
        "df_Conversation_Information.isnull().values.any()"
      ],
      "execution_count": null,
      "outputs": [
        {
          "output_type": "execute_result",
          "data": {
            "text/plain": [
              "False"
            ]
          },
          "metadata": {},
          "execution_count": 62
        }
      ]
    },
    {
      "cell_type": "code",
      "metadata": {
        "colab": {
          "base_uri": "https://localhost:8080/"
        },
        "id": "8bCoH0iHOFwi",
        "outputId": "f51aa323-f865-49d9-e62c-7f08e3441179"
      },
      "source": [
        "df_Conversation_Information.isnull().sum()"
      ],
      "execution_count": null,
      "outputs": [
        {
          "output_type": "execute_result",
          "data": {
            "text/plain": [
              "Conversation_ID    0\n",
              "CustomerCount      0\n",
              "SalesCount         0\n",
              "StartTime          0\n",
              "EndTime            0\n",
              "dtype: int64"
            ]
          },
          "metadata": {},
          "execution_count": 63
        }
      ]
    },
    {
      "cell_type": "code",
      "metadata": {
        "colab": {
          "base_uri": "https://localhost:8080/"
        },
        "id": "1R2clDRuOKRg",
        "outputId": "e5df2846-1e3c-41e4-fa4a-cd0f31e63d89"
      },
      "source": [
        "df_Conversation_Information.shape[0]"
      ],
      "execution_count": null,
      "outputs": [
        {
          "output_type": "execute_result",
          "data": {
            "text/plain": [
              "314543"
            ]
          },
          "metadata": {},
          "execution_count": 64
        }
      ]
    },
    {
      "cell_type": "markdown",
      "metadata": {
        "id": "sJa9cBcLOOBP"
      },
      "source": [
        "There is no null values in the Conversation_Information data frame so I can save the data frames as CSV files now."
      ]
    },
    {
      "cell_type": "markdown",
      "metadata": {
        "id": "5zix42jInlfp"
      },
      "source": [
        "# 7/ Work with Customer data frame"
      ]
    },
    {
      "cell_type": "markdown",
      "metadata": {
        "id": "1eOpsEUnoDuo"
      },
      "source": [
        "## 7.1/ Create a new table"
      ]
    },
    {
      "cell_type": "code",
      "metadata": {
        "colab": {
          "base_uri": "https://localhost:8080/"
        },
        "id": "hh4HY1UjnoPV",
        "outputId": "ac3c3323-5071-4e52-9cc0-056c302e8b6c"
      },
      "source": [
        "# Create headers list\n",
        "headers_Customer = ['PSID', 'CusName']\n",
        "print(\"Headers of the Data Frame 'Customer' \\n\", headers_Customer)"
      ],
      "execution_count": null,
      "outputs": [
        {
          "output_type": "stream",
          "name": "stdout",
          "text": [
            "Headers of the Data Frame 'Customer' \n",
            " ['PSID', 'CusName']\n"
          ]
        }
      ]
    },
    {
      "cell_type": "code",
      "metadata": {
        "id": "jdz0SpDrKm_p"
      },
      "source": [
        "df_Customer = df_sales_main.filter(headers_Customer, axis=1)\n",
        "df_Customer.head(5)"
      ],
      "execution_count": null,
      "outputs": []
    },
    {
      "cell_type": "markdown",
      "metadata": {
        "id": "zmUOuqGHoP7c"
      },
      "source": [
        "# 8/ Work with Fan Page data frame\n"
      ]
    },
    {
      "cell_type": "markdown",
      "metadata": {
        "id": "mxC2AHsAoPaM"
      },
      "source": [
        "## 8.1/ Create a new table"
      ]
    },
    {
      "cell_type": "code",
      "metadata": {
        "colab": {
          "base_uri": "https://localhost:8080/"
        },
        "id": "ZjMlKGAZnoKz",
        "outputId": "7cc37964-3404-473d-b229-e8f61bef5ace"
      },
      "source": [
        "# Create headers list\n",
        "headers_Fan_Page = ['Fanpage', 'FanpageName']\n",
        "print(\"Headers of the Data Frame 'Fan Page' \\n\", headers_Fan_Page)"
      ],
      "execution_count": null,
      "outputs": [
        {
          "output_type": "stream",
          "name": "stdout",
          "text": [
            "Headers of the Data Frame 'Fan Page' \n",
            " ['Fanpage', 'FanpageName']\n"
          ]
        }
      ]
    },
    {
      "cell_type": "code",
      "metadata": {
        "id": "h1If6z4yKoUy"
      },
      "source": [
        "df_Fan_Page = df_sales_main.filter(headers_Fan_Page, axis=1)\n",
        "df_Fan_Page.head(5)"
      ],
      "execution_count": null,
      "outputs": []
    },
    {
      "cell_type": "markdown",
      "metadata": {
        "id": "ISx36fH_qi4P"
      },
      "source": [
        "# 9/ Save data frames into files"
      ]
    },
    {
      "cell_type": "code",
      "metadata": {
        "id": "VFfGQd5z3WTl"
      },
      "source": [
        "df_Conversation.to_csv('/content/drive/My Drive/Colab Notebooks/CoTAI/Data Science Internship CoTAI 2021/SQL Alchemy/Conversation.csv', encoding='utf-8')"
      ],
      "execution_count": null,
      "outputs": []
    },
    {
      "cell_type": "code",
      "metadata": {
        "id": "uxt3zrjl0CZv"
      },
      "source": [
        "customer_filtered_df_Conversation.to_csv('/content/drive/My Drive/Colab Notebooks/CoTAI/Data Science Internship CoTAI 2021/SQL Alchemy/customer_filtered_Conversation.csv', encoding='utf-8')"
      ],
      "execution_count": null,
      "outputs": []
    },
    {
      "cell_type": "code",
      "metadata": {
        "id": "kJwfQELJ4LTR"
      },
      "source": [
        "df_Conversation_Information.to_csv('/content/drive/My Drive/Colab Notebooks/CoTAI/Data Science Internship CoTAI 2021/SQL Alchemy/Conversation_Information.csv', encoding='utf-8')"
      ],
      "execution_count": null,
      "outputs": []
    },
    {
      "cell_type": "code",
      "metadata": {
        "id": "fpJ2nS95heOQ"
      },
      "source": [
        "df_Customer.to_csv('/content/drive/My Drive/Colab Notebooks/CoTAI/Data Science Internship CoTAI 2021/SQL Alchemy/Customer.csv', encoding='utf-8')"
      ],
      "execution_count": null,
      "outputs": []
    },
    {
      "cell_type": "code",
      "metadata": {
        "id": "dALcEov7heL8"
      },
      "source": [
        "df_Fan_Page.to_csv('/content/drive/My Drive/Colab Notebooks/CoTAI/Data Science Internship CoTAI 2021/SQL Alchemy/Fan_Page.csv', encoding='utf-8')"
      ],
      "execution_count": null,
      "outputs": []
    }
  ]
}